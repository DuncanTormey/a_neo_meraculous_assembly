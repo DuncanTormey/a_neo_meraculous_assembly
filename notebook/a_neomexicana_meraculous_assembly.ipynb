{
 "cells": [
  {
   "cell_type": "markdown",
   "metadata": {},
   "source": [
    "# Primary Assembly"
   ]
  },
  {
   "cell_type": "code",
   "execution_count": 1,
   "metadata": {
    "ExecuteTime": {
     "end_time": "2018-03-12T16:00:08.927086Z",
     "start_time": "2018-03-12T15:59:59.254992Z"
    }
   },
   "outputs": [
    {
     "data": {
      "text/html": [
       "<style>.container { width:80% !important; }</style>"
      ],
      "text/plain": [
       "<IPython.core.display.HTML object>"
      ]
     },
     "metadata": {},
     "output_type": "display_data"
    }
   ],
   "source": [
    "import pandas as pd\n",
    "import sys\n",
    "sys.path = ['../../../python_tools/'] + sys.path\n",
    "from fasta_class import fasta_classes as fa\n",
    "pd.set_option('display.max_colwidth', -1)\n",
    "from IPython.core.display import display, HTML\n",
    "display(HTML(\"<style>.container { width:80% !important; }</style>\"))"
   ]
  },
  {
   "cell_type": "markdown",
   "metadata": {},
   "source": [
    "## Installing MERACULOUS"
   ]
  },
  {
   "cell_type": "code",
   "execution_count": 2,
   "metadata": {
    "ExecuteTime": {
     "end_time": "2018-03-12T16:00:08.961299Z",
     "start_time": "2018-03-12T16:00:08.930082Z"
    },
    "collapsed": true
   },
   "outputs": [],
   "source": [
    "%%bash\n",
    "#source activate meraculous_env\n",
    "#conda install meraculous"
   ]
  },
  {
   "cell_type": "markdown",
   "metadata": {},
   "source": [
    "## Data"
   ]
  },
  {
   "cell_type": "code",
   "execution_count": 3,
   "metadata": {
    "ExecuteTime": {
     "end_time": "2018-03-12T16:00:09.193200Z",
     "start_time": "2018-03-12T16:00:08.965798Z"
    }
   },
   "outputs": [
    {
     "data": {
      "text/html": [
       "<div>\n",
       "<style scoped>\n",
       "    .dataframe tbody tr th:only-of-type {\n",
       "        vertical-align: middle;\n",
       "    }\n",
       "\n",
       "    .dataframe tbody tr th {\n",
       "        vertical-align: top;\n",
       "    }\n",
       "\n",
       "    .dataframe thead th {\n",
       "        text-align: right;\n",
       "    }\n",
       "</style>\n",
       "<table border=\"1\" class=\"dataframe\">\n",
       "  <thead>\n",
       "    <tr style=\"text-align: right;\">\n",
       "      <th></th>\n",
       "      <th>Output</th>\n",
       "      <th>Order</th>\n",
       "      <th>OrderType</th>\n",
       "      <th>Lane</th>\n",
       "      <th>SampleName</th>\n",
       "      <th>LibraryID</th>\n",
       "      <th>IndexSequence1</th>\n",
       "      <th>IndexSequence2</th>\n",
       "      <th>Read</th>\n",
       "      <th>Reference</th>\n",
       "      <th>Lab</th>\n",
       "      <th>TotalReads</th>\n",
       "      <th>AlignPercent</th>\n",
       "      <th>Type</th>\n",
       "      <th>ReadLength</th>\n",
       "      <th>FlowcellPath</th>\n",
       "      <th>FilePath</th>\n",
       "    </tr>\n",
       "  </thead>\n",
       "  <tbody>\n",
       "    <tr>\n",
       "      <th>0</th>\n",
       "      <td>s_1_1_GTGAAA.fastq.gz</td>\n",
       "      <td>MOLNG-2243</td>\n",
       "      <td>DNA-Seq (1ug)</td>\n",
       "      <td>1</td>\n",
       "      <td>A_neomexicana_16923</td>\n",
       "      <td>L32314</td>\n",
       "      <td>GTGAAA</td>\n",
       "      <td>NaN</td>\n",
       "      <td>1</td>\n",
       "      <td>None</td>\n",
       "      <td>Baumann Lab</td>\n",
       "      <td>135318715</td>\n",
       "      <td>0</td>\n",
       "      <td>Paired Reads</td>\n",
       "      <td>251</td>\n",
       "      <td>/n/analysis/Baumann/rrs/MOLNG-2243/H77NNBCX2/</td>\n",
       "      <td>/n/analysis/Baumann/rrs/MOLNG-2243/H77NNBCX2/s_1_1_GTGAAA.fastq.gz</td>\n",
       "    </tr>\n",
       "    <tr>\n",
       "      <th>1</th>\n",
       "      <td>s_1_2_GTGAAA.fastq.gz</td>\n",
       "      <td>MOLNG-2243</td>\n",
       "      <td>DNA-Seq (1ug)</td>\n",
       "      <td>1</td>\n",
       "      <td>A_neomexicana_16923</td>\n",
       "      <td>L32314</td>\n",
       "      <td>GTGAAA</td>\n",
       "      <td>NaN</td>\n",
       "      <td>2</td>\n",
       "      <td>None</td>\n",
       "      <td>Baumann Lab</td>\n",
       "      <td>135318715</td>\n",
       "      <td>0</td>\n",
       "      <td>Paired Reads</td>\n",
       "      <td>251</td>\n",
       "      <td>/n/analysis/Baumann/rrs/MOLNG-2243/H77NNBCX2/</td>\n",
       "      <td>/n/analysis/Baumann/rrs/MOLNG-2243/H77NNBCX2/s_1_2_GTGAAA.fastq.gz</td>\n",
       "    </tr>\n",
       "    <tr>\n",
       "      <th>2</th>\n",
       "      <td>s_2_1_GTGAAA.fastq.gz</td>\n",
       "      <td>MOLNG-2243</td>\n",
       "      <td>DNA-Seq (1ug)</td>\n",
       "      <td>2</td>\n",
       "      <td>A_neomexicana_16923</td>\n",
       "      <td>L32314</td>\n",
       "      <td>GTGAAA</td>\n",
       "      <td>NaN</td>\n",
       "      <td>1</td>\n",
       "      <td>None</td>\n",
       "      <td>Baumann Lab</td>\n",
       "      <td>129777620</td>\n",
       "      <td>0</td>\n",
       "      <td>Paired Reads</td>\n",
       "      <td>251</td>\n",
       "      <td>/n/analysis/Baumann/rrs/MOLNG-2243/H77NNBCX2/</td>\n",
       "      <td>/n/analysis/Baumann/rrs/MOLNG-2243/H77NNBCX2/s_2_1_GTGAAA.fastq.gz</td>\n",
       "    </tr>\n",
       "    <tr>\n",
       "      <th>3</th>\n",
       "      <td>s_2_2_GTGAAA.fastq.gz</td>\n",
       "      <td>MOLNG-2243</td>\n",
       "      <td>DNA-Seq (1ug)</td>\n",
       "      <td>2</td>\n",
       "      <td>A_neomexicana_16923</td>\n",
       "      <td>L32314</td>\n",
       "      <td>GTGAAA</td>\n",
       "      <td>NaN</td>\n",
       "      <td>2</td>\n",
       "      <td>None</td>\n",
       "      <td>Baumann Lab</td>\n",
       "      <td>129777620</td>\n",
       "      <td>0</td>\n",
       "      <td>Paired Reads</td>\n",
       "      <td>251</td>\n",
       "      <td>/n/analysis/Baumann/rrs/MOLNG-2243/H77NNBCX2/</td>\n",
       "      <td>/n/analysis/Baumann/rrs/MOLNG-2243/H77NNBCX2/s_2_2_GTGAAA.fastq.gz</td>\n",
       "    </tr>\n",
       "  </tbody>\n",
       "</table>\n",
       "</div>"
      ],
      "text/plain": [
       "                  Output       Order      OrderType  Lane  \\\n",
       "0  s_1_1_GTGAAA.fastq.gz  MOLNG-2243  DNA-Seq (1ug)  1      \n",
       "1  s_1_2_GTGAAA.fastq.gz  MOLNG-2243  DNA-Seq (1ug)  1      \n",
       "2  s_2_1_GTGAAA.fastq.gz  MOLNG-2243  DNA-Seq (1ug)  2      \n",
       "3  s_2_2_GTGAAA.fastq.gz  MOLNG-2243  DNA-Seq (1ug)  2      \n",
       "\n",
       "            SampleName LibraryID IndexSequence1  IndexSequence2  Read  \\\n",
       "0  A_neomexicana_16923  L32314    GTGAAA        NaN              1      \n",
       "1  A_neomexicana_16923  L32314    GTGAAA        NaN              2      \n",
       "2  A_neomexicana_16923  L32314    GTGAAA        NaN              1      \n",
       "3  A_neomexicana_16923  L32314    GTGAAA        NaN              2      \n",
       "\n",
       "  Reference          Lab  TotalReads  AlignPercent          Type  ReadLength  \\\n",
       "0  None      Baumann Lab  135318715   0             Paired Reads  251          \n",
       "1  None      Baumann Lab  135318715   0             Paired Reads  251          \n",
       "2  None      Baumann Lab  129777620   0             Paired Reads  251          \n",
       "3  None      Baumann Lab  129777620   0             Paired Reads  251          \n",
       "\n",
       "                                    FlowcellPath  \\\n",
       "0  /n/analysis/Baumann/rrs/MOLNG-2243/H77NNBCX2/   \n",
       "1  /n/analysis/Baumann/rrs/MOLNG-2243/H77NNBCX2/   \n",
       "2  /n/analysis/Baumann/rrs/MOLNG-2243/H77NNBCX2/   \n",
       "3  /n/analysis/Baumann/rrs/MOLNG-2243/H77NNBCX2/   \n",
       "\n",
       "                                                             FilePath  \n",
       "0  /n/analysis/Baumann/rrs/MOLNG-2243/H77NNBCX2/s_1_1_GTGAAA.fastq.gz  \n",
       "1  /n/analysis/Baumann/rrs/MOLNG-2243/H77NNBCX2/s_1_2_GTGAAA.fastq.gz  \n",
       "2  /n/analysis/Baumann/rrs/MOLNG-2243/H77NNBCX2/s_2_1_GTGAAA.fastq.gz  \n",
       "3  /n/analysis/Baumann/rrs/MOLNG-2243/H77NNBCX2/s_2_2_GTGAAA.fastq.gz  "
      ]
     },
     "execution_count": 3,
     "metadata": {},
     "output_type": "execute_result"
    }
   ],
   "source": [
    "molng2243 = pd.read_csv('/n/analysis/Baumann/rrs/MOLNG-2243/H77NNBCX2/Sample_Report.csv')\n",
    "molng2243['FlowcellPath'] = '/n/analysis/Baumann/rrs/MOLNG-2243/H77NNBCX2/'\n",
    "molng2243['FilePath'] = molng2243.apply(lambda row: row['FlowcellPath'] + row['Output'], axis=1)\n",
    "molng2243"
   ]
  },
  {
   "cell_type": "markdown",
   "metadata": {
    "ExecuteTime": {
     "end_time": "2018-02-27T22:27:04.299080Z",
     "start_time": "2018-02-27T22:27:04.295739Z"
    }
   },
   "source": [
    "## Quick Run"
   ]
  },
  {
   "cell_type": "code",
   "execution_count": 4,
   "metadata": {
    "ExecuteTime": {
     "end_time": "2018-03-12T16:00:09.230501Z",
     "start_time": "2018-03-12T16:00:09.195693Z"
    }
   },
   "outputs": [
    {
     "name": "stdout",
     "output_type": "stream",
     "text": [
      "###################################\n",
      "#\n",
      "#  Meraculous params file\n",
      "#\n",
      "###################################\n",
      "\n",
      "\n",
      "#######################################\n",
      "#\n",
      "# Basic parameters\n",
      "#\n",
      "########################################\n",
      "\n",
      "\n",
      "\n",
      "# Describe the libraries ( one line per library )\n",
      "# lib_seq [ wildcard ][ prefix ][ insAvg ][ insSdev ][ avgReadLen ][ hasInnieArtifact ][ isRevComped ][ useForContigging ][ onoSetId ][ useForGapClosing ][ 5pWiggleRoom ][3pWiggleRoom]\n",
      "#\n",
      "\n",
      "lib_seq\t/n/analysis/Baumann/rrs/MOLNG-2243/H77NNBCX2/s_*_1_*,/n/analysis/Baumann/rrs/MOLNG-2243/H77NNBCX2/s_*_2_*  FRA  500  100   251 0 0\t  1 1 1  0 0\n",
      "\n",
      "genome_size   1.6\n",
      "\n",
      "diploid_mode\t1\n",
      "\n",
      "mer_size 61\n",
      "\n",
      "min_depth_cutoff\t7\n",
      "\n",
      "num_prefix_blocks 4\n",
      "\n",
      "\n",
      "#################################################\n",
      "#\n",
      "# Advanced parameters \n",
      "#\n",
      "#################################################\n",
      "\n",
      "no_read_validation 0\n",
      "\n",
      "use_cluster 0\n",
      "\n",
      "local_num_procs       30\n",
      "\n",
      "local_max_retries\t\t  1\n",
      "\n",
      "\n",
      "\n"
     ]
    }
   ],
   "source": [
    "%%bash\n",
    "cat ../data/meraculous.config"
   ]
  },
  {
   "cell_type": "code",
   "execution_count": 5,
   "metadata": {
    "ExecuteTime": {
     "end_time": "2018-03-12T16:00:09.254283Z",
     "start_time": "2018-03-12T16:00:09.234892Z"
    },
    "collapsed": true
   },
   "outputs": [],
   "source": [
    "%%bash\n",
    "# nohup run_meraculous.sh -c ../data/meraculous.config &> ../data/run_merc_nohup.out &"
   ]
  },
  {
   "cell_type": "code",
   "execution_count": 6,
   "metadata": {
    "ExecuteTime": {
     "end_time": "2018-03-12T16:00:19.983845Z",
     "start_time": "2018-03-12T16:00:09.257239Z"
    },
    "collapsed": true
   },
   "outputs": [],
   "source": [
    "quickRunFa = fa.Fasta_file('../data/run_2018-02-27_13h10m30s/meraculous_final_results/final.scaffolds.fa')"
   ]
  },
  {
   "cell_type": "code",
   "execution_count": 7,
   "metadata": {
    "ExecuteTime": {
     "end_time": "2018-03-12T16:00:21.629374Z",
     "start_time": "2018-03-12T16:00:19.988071Z"
    }
   },
   "outputs": [
    {
     "name": "stdout",
     "output_type": "stream",
     "text": [
      "max_scaffold 71070\n",
      "min_scaffold 1000\n",
      "mean_scaffold 2705.65927659\n",
      "median_scaffold 2076.0\n",
      "N50 3209\n",
      "N90 1388\n",
      "scaffolds_greater_than_10kb 2667\n",
      "scaffolds_greater_than_100kb 0\n",
      "scaffolds_greater_than_1Mb 0\n",
      "scaffolds_greater_than_10Mb 0\n",
      "scaffolds_greater_than_100Mb 0\n",
      "perc_genome_covered_by_scaffolds_greater_than_10kb 5.026920948957682\n",
      "perc_genome_covered_by_scaffolds_greater_than_100kb 0.0\n",
      "perc_genome_covered_by_scaffolds_greater_than_1mb 0.0\n",
      "number of scaffolds 253854\n",
      "total bases 686842430\n"
     ]
    }
   ],
   "source": [
    "quickRunFa.get_stats()"
   ]
  },
  {
   "cell_type": "markdown",
   "metadata": {},
   "source": [
    "## Trim Reads"
   ]
  },
  {
   "cell_type": "code",
   "execution_count": 8,
   "metadata": {
    "ExecuteTime": {
     "end_time": "2018-03-12T16:00:21.727468Z",
     "start_time": "2018-03-12T16:00:21.631492Z"
    },
    "collapsed": true
   },
   "outputs": [],
   "source": [
    "%%bash\n",
    "cd ../bin\n",
    "#wget http://www.usadellab.org/cms/uploads/supplementary/Trimmomatic/Trimmomatic-0.36.zip\n",
    "#unzip Trimmomatic-0.36.zip\n"
   ]
  },
  {
   "cell_type": "code",
   "execution_count": 9,
   "metadata": {
    "ExecuteTime": {
     "end_time": "2018-03-12T16:00:22.053183Z",
     "start_time": "2018-03-12T16:00:21.731668Z"
    }
   },
   "outputs": [
    {
     "name": "stderr",
     "output_type": "stream",
     "text": [
      "Usage: \n",
      "       PE [-version] [-threads <threads>] [-phred33|-phred64] [-trimlog <trimLogFile>] [-quiet] [-validatePairs] [-basein <inputBase> | <inputFile1> <inputFile2>] [-baseout <outputBase> | <outputFile1P> <outputFile1U> <outputFile2P> <outputFile2U>] <trimmer1>...\n",
      "   or: \n",
      "       SE [-version] [-threads <threads>] [-phred33|-phred64] [-trimlog <trimLogFile>] [-quiet] <inputFile> <outputFile> <trimmer1>...\n",
      "   or: \n",
      "       -version\n"
     ]
    }
   ],
   "source": [
    "%%bash\n",
    "java -jar ./../bin/Trimmomatic-0.36/trimmomatic-0.36.jar"
   ]
  },
  {
   "cell_type": "code",
   "execution_count": 10,
   "metadata": {
    "ExecuteTime": {
     "end_time": "2018-03-12T16:00:22.151622Z",
     "start_time": "2018-03-12T16:00:22.055465Z"
    },
    "collapsed": true
   },
   "outputs": [],
   "source": [
    "%%bash\n",
    "#for f in ../bin/Trimmomatic-0.36/adapters/*.fa; do (cat $f; echo '') >> ../bin/Trimmomatic-0.36/adapters/all_adapters.fa; done\n",
    "#cat ../bin/Trimmomatic-0.36/adapters/all_adapters.fa\n"
   ]
  },
  {
   "cell_type": "code",
   "execution_count": 11,
   "metadata": {
    "ExecuteTime": {
     "end_time": "2018-03-12T16:00:22.238703Z",
     "start_time": "2018-03-12T16:00:22.155891Z"
    },
    "collapsed": true
   },
   "outputs": [],
   "source": [
    "%%bash\n",
    "#mkdir ../data/read_trimming"
   ]
  },
  {
   "cell_type": "code",
   "execution_count": 12,
   "metadata": {
    "ExecuteTime": {
     "end_time": "2018-03-12T16:00:22.273632Z",
     "start_time": "2018-03-12T16:00:22.241482Z"
    }
   },
   "outputs": [
    {
     "data": {
      "text/html": [
       "<div>\n",
       "<style scoped>\n",
       "    .dataframe tbody tr th:only-of-type {\n",
       "        vertical-align: middle;\n",
       "    }\n",
       "\n",
       "    .dataframe tbody tr th {\n",
       "        vertical-align: top;\n",
       "    }\n",
       "\n",
       "    .dataframe thead th {\n",
       "        text-align: right;\n",
       "    }\n",
       "</style>\n",
       "<table border=\"1\" class=\"dataframe\">\n",
       "  <thead>\n",
       "    <tr style=\"text-align: right;\">\n",
       "      <th></th>\n",
       "      <th>Output</th>\n",
       "      <th>Order</th>\n",
       "      <th>OrderType</th>\n",
       "      <th>Lane</th>\n",
       "      <th>SampleName</th>\n",
       "      <th>LibraryID</th>\n",
       "      <th>IndexSequence1</th>\n",
       "      <th>IndexSequence2</th>\n",
       "      <th>Read</th>\n",
       "      <th>Reference</th>\n",
       "      <th>Lab</th>\n",
       "      <th>TotalReads</th>\n",
       "      <th>AlignPercent</th>\n",
       "      <th>Type</th>\n",
       "      <th>ReadLength</th>\n",
       "      <th>FlowcellPath</th>\n",
       "      <th>FilePath</th>\n",
       "    </tr>\n",
       "  </thead>\n",
       "  <tbody>\n",
       "    <tr>\n",
       "      <th>0</th>\n",
       "      <td>s_1_1_GTGAAA.fastq.gz</td>\n",
       "      <td>MOLNG-2243</td>\n",
       "      <td>DNA-Seq (1ug)</td>\n",
       "      <td>1</td>\n",
       "      <td>A_neomexicana_16923</td>\n",
       "      <td>L32314</td>\n",
       "      <td>GTGAAA</td>\n",
       "      <td>NaN</td>\n",
       "      <td>1</td>\n",
       "      <td>None</td>\n",
       "      <td>Baumann Lab</td>\n",
       "      <td>135318715</td>\n",
       "      <td>0</td>\n",
       "      <td>Paired Reads</td>\n",
       "      <td>251</td>\n",
       "      <td>/n/analysis/Baumann/rrs/MOLNG-2243/H77NNBCX2/</td>\n",
       "      <td>/n/analysis/Baumann/rrs/MOLNG-2243/H77NNBCX2/s_1_1_GTGAAA.fastq.gz</td>\n",
       "    </tr>\n",
       "    <tr>\n",
       "      <th>1</th>\n",
       "      <td>s_1_2_GTGAAA.fastq.gz</td>\n",
       "      <td>MOLNG-2243</td>\n",
       "      <td>DNA-Seq (1ug)</td>\n",
       "      <td>1</td>\n",
       "      <td>A_neomexicana_16923</td>\n",
       "      <td>L32314</td>\n",
       "      <td>GTGAAA</td>\n",
       "      <td>NaN</td>\n",
       "      <td>2</td>\n",
       "      <td>None</td>\n",
       "      <td>Baumann Lab</td>\n",
       "      <td>135318715</td>\n",
       "      <td>0</td>\n",
       "      <td>Paired Reads</td>\n",
       "      <td>251</td>\n",
       "      <td>/n/analysis/Baumann/rrs/MOLNG-2243/H77NNBCX2/</td>\n",
       "      <td>/n/analysis/Baumann/rrs/MOLNG-2243/H77NNBCX2/s_1_2_GTGAAA.fastq.gz</td>\n",
       "    </tr>\n",
       "    <tr>\n",
       "      <th>2</th>\n",
       "      <td>s_2_1_GTGAAA.fastq.gz</td>\n",
       "      <td>MOLNG-2243</td>\n",
       "      <td>DNA-Seq (1ug)</td>\n",
       "      <td>2</td>\n",
       "      <td>A_neomexicana_16923</td>\n",
       "      <td>L32314</td>\n",
       "      <td>GTGAAA</td>\n",
       "      <td>NaN</td>\n",
       "      <td>1</td>\n",
       "      <td>None</td>\n",
       "      <td>Baumann Lab</td>\n",
       "      <td>129777620</td>\n",
       "      <td>0</td>\n",
       "      <td>Paired Reads</td>\n",
       "      <td>251</td>\n",
       "      <td>/n/analysis/Baumann/rrs/MOLNG-2243/H77NNBCX2/</td>\n",
       "      <td>/n/analysis/Baumann/rrs/MOLNG-2243/H77NNBCX2/s_2_1_GTGAAA.fastq.gz</td>\n",
       "    </tr>\n",
       "    <tr>\n",
       "      <th>3</th>\n",
       "      <td>s_2_2_GTGAAA.fastq.gz</td>\n",
       "      <td>MOLNG-2243</td>\n",
       "      <td>DNA-Seq (1ug)</td>\n",
       "      <td>2</td>\n",
       "      <td>A_neomexicana_16923</td>\n",
       "      <td>L32314</td>\n",
       "      <td>GTGAAA</td>\n",
       "      <td>NaN</td>\n",
       "      <td>2</td>\n",
       "      <td>None</td>\n",
       "      <td>Baumann Lab</td>\n",
       "      <td>129777620</td>\n",
       "      <td>0</td>\n",
       "      <td>Paired Reads</td>\n",
       "      <td>251</td>\n",
       "      <td>/n/analysis/Baumann/rrs/MOLNG-2243/H77NNBCX2/</td>\n",
       "      <td>/n/analysis/Baumann/rrs/MOLNG-2243/H77NNBCX2/s_2_2_GTGAAA.fastq.gz</td>\n",
       "    </tr>\n",
       "  </tbody>\n",
       "</table>\n",
       "</div>"
      ],
      "text/plain": [
       "                  Output       Order      OrderType  Lane  \\\n",
       "0  s_1_1_GTGAAA.fastq.gz  MOLNG-2243  DNA-Seq (1ug)  1      \n",
       "1  s_1_2_GTGAAA.fastq.gz  MOLNG-2243  DNA-Seq (1ug)  1      \n",
       "2  s_2_1_GTGAAA.fastq.gz  MOLNG-2243  DNA-Seq (1ug)  2      \n",
       "3  s_2_2_GTGAAA.fastq.gz  MOLNG-2243  DNA-Seq (1ug)  2      \n",
       "\n",
       "            SampleName LibraryID IndexSequence1  IndexSequence2  Read  \\\n",
       "0  A_neomexicana_16923  L32314    GTGAAA        NaN              1      \n",
       "1  A_neomexicana_16923  L32314    GTGAAA        NaN              2      \n",
       "2  A_neomexicana_16923  L32314    GTGAAA        NaN              1      \n",
       "3  A_neomexicana_16923  L32314    GTGAAA        NaN              2      \n",
       "\n",
       "  Reference          Lab  TotalReads  AlignPercent          Type  ReadLength  \\\n",
       "0  None      Baumann Lab  135318715   0             Paired Reads  251          \n",
       "1  None      Baumann Lab  135318715   0             Paired Reads  251          \n",
       "2  None      Baumann Lab  129777620   0             Paired Reads  251          \n",
       "3  None      Baumann Lab  129777620   0             Paired Reads  251          \n",
       "\n",
       "                                    FlowcellPath  \\\n",
       "0  /n/analysis/Baumann/rrs/MOLNG-2243/H77NNBCX2/   \n",
       "1  /n/analysis/Baumann/rrs/MOLNG-2243/H77NNBCX2/   \n",
       "2  /n/analysis/Baumann/rrs/MOLNG-2243/H77NNBCX2/   \n",
       "3  /n/analysis/Baumann/rrs/MOLNG-2243/H77NNBCX2/   \n",
       "\n",
       "                                                             FilePath  \n",
       "0  /n/analysis/Baumann/rrs/MOLNG-2243/H77NNBCX2/s_1_1_GTGAAA.fastq.gz  \n",
       "1  /n/analysis/Baumann/rrs/MOLNG-2243/H77NNBCX2/s_1_2_GTGAAA.fastq.gz  \n",
       "2  /n/analysis/Baumann/rrs/MOLNG-2243/H77NNBCX2/s_2_1_GTGAAA.fastq.gz  \n",
       "3  /n/analysis/Baumann/rrs/MOLNG-2243/H77NNBCX2/s_2_2_GTGAAA.fastq.gz  "
      ]
     },
     "execution_count": 12,
     "metadata": {},
     "output_type": "execute_result"
    }
   ],
   "source": [
    "molng2243"
   ]
  },
  {
   "cell_type": "code",
   "execution_count": 13,
   "metadata": {
    "ExecuteTime": {
     "end_time": "2018-03-12T16:00:22.367257Z",
     "start_time": "2018-03-12T16:00:22.275540Z"
    }
   },
   "outputs": [
    {
     "data": {
      "text/html": [
       "<div>\n",
       "<style scoped>\n",
       "    .dataframe tbody tr th:only-of-type {\n",
       "        vertical-align: middle;\n",
       "    }\n",
       "\n",
       "    .dataframe tbody tr th {\n",
       "        vertical-align: top;\n",
       "    }\n",
       "\n",
       "    .dataframe thead th {\n",
       "        text-align: right;\n",
       "    }\n",
       "</style>\n",
       "<table border=\"1\" class=\"dataframe\">\n",
       "  <thead>\n",
       "    <tr style=\"text-align: right;\">\n",
       "      <th></th>\n",
       "      <th>read_1_Output</th>\n",
       "      <th>read_1_Order</th>\n",
       "      <th>read_1_OrderType</th>\n",
       "      <th>read_1_Lane</th>\n",
       "      <th>read_1_SampleName</th>\n",
       "      <th>read_1_LibraryID</th>\n",
       "      <th>read_1_IndexSequence1</th>\n",
       "      <th>read_1_IndexSequence2</th>\n",
       "      <th>read_1_Read</th>\n",
       "      <th>read_1_Reference</th>\n",
       "      <th>...</th>\n",
       "      <th>read_2_IndexSequence2</th>\n",
       "      <th>read_2_Read</th>\n",
       "      <th>read_2_Reference</th>\n",
       "      <th>read_2_Lab</th>\n",
       "      <th>read_2_TotalReads</th>\n",
       "      <th>read_2_AlignPercent</th>\n",
       "      <th>read_2_Type</th>\n",
       "      <th>read_2_ReadLength</th>\n",
       "      <th>read_2_FlowcellPath</th>\n",
       "      <th>read_2_FilePath</th>\n",
       "    </tr>\n",
       "  </thead>\n",
       "  <tbody>\n",
       "    <tr>\n",
       "      <th>0</th>\n",
       "      <td>s_1_1_GTGAAA.fastq.gz</td>\n",
       "      <td>MOLNG-2243</td>\n",
       "      <td>DNA-Seq (1ug)</td>\n",
       "      <td>1</td>\n",
       "      <td>A_neomexicana_16923</td>\n",
       "      <td>L32314</td>\n",
       "      <td>GTGAAA</td>\n",
       "      <td>NaN</td>\n",
       "      <td>1</td>\n",
       "      <td>None</td>\n",
       "      <td>...</td>\n",
       "      <td>NaN</td>\n",
       "      <td>2</td>\n",
       "      <td>None</td>\n",
       "      <td>Baumann Lab</td>\n",
       "      <td>135318715</td>\n",
       "      <td>0</td>\n",
       "      <td>Paired Reads</td>\n",
       "      <td>251</td>\n",
       "      <td>/n/analysis/Baumann/rrs/MOLNG-2243/H77NNBCX2/</td>\n",
       "      <td>/n/analysis/Baumann/rrs/MOLNG-2243/H77NNBCX2/s_1_2_GTGAAA.fastq.gz</td>\n",
       "    </tr>\n",
       "    <tr>\n",
       "      <th>1</th>\n",
       "      <td>s_2_1_GTGAAA.fastq.gz</td>\n",
       "      <td>MOLNG-2243</td>\n",
       "      <td>DNA-Seq (1ug)</td>\n",
       "      <td>2</td>\n",
       "      <td>A_neomexicana_16923</td>\n",
       "      <td>L32314</td>\n",
       "      <td>GTGAAA</td>\n",
       "      <td>NaN</td>\n",
       "      <td>1</td>\n",
       "      <td>None</td>\n",
       "      <td>...</td>\n",
       "      <td>NaN</td>\n",
       "      <td>2</td>\n",
       "      <td>None</td>\n",
       "      <td>Baumann Lab</td>\n",
       "      <td>129777620</td>\n",
       "      <td>0</td>\n",
       "      <td>Paired Reads</td>\n",
       "      <td>251</td>\n",
       "      <td>/n/analysis/Baumann/rrs/MOLNG-2243/H77NNBCX2/</td>\n",
       "      <td>/n/analysis/Baumann/rrs/MOLNG-2243/H77NNBCX2/s_2_2_GTGAAA.fastq.gz</td>\n",
       "    </tr>\n",
       "  </tbody>\n",
       "</table>\n",
       "<p>2 rows × 34 columns</p>\n",
       "</div>"
      ],
      "text/plain": [
       "           read_1_Output read_1_Order read_1_OrderType  read_1_Lane  \\\n",
       "0  s_1_1_GTGAAA.fastq.gz  MOLNG-2243   DNA-Seq (1ug)    1             \n",
       "1  s_2_1_GTGAAA.fastq.gz  MOLNG-2243   DNA-Seq (1ug)    2             \n",
       "\n",
       "     read_1_SampleName read_1_LibraryID read_1_IndexSequence1  \\\n",
       "0  A_neomexicana_16923  L32314           GTGAAA                 \n",
       "1  A_neomexicana_16923  L32314           GTGAAA                 \n",
       "\n",
       "   read_1_IndexSequence2  read_1_Read read_1_Reference  \\\n",
       "0 NaN                     1            None              \n",
       "1 NaN                     1            None              \n",
       "\n",
       "                                  ...                                  \\\n",
       "0                                 ...                                   \n",
       "1                                 ...                                   \n",
       "\n",
       "  read_2_IndexSequence2  read_2_Read  read_2_Reference   read_2_Lab  \\\n",
       "0 NaN                    2            None              Baumann Lab   \n",
       "1 NaN                    2            None              Baumann Lab   \n",
       "\n",
       "   read_2_TotalReads read_2_AlignPercent   read_2_Type read_2_ReadLength  \\\n",
       "0  135318715          0                   Paired Reads  251                \n",
       "1  129777620          0                   Paired Reads  251                \n",
       "\n",
       "                             read_2_FlowcellPath  \\\n",
       "0  /n/analysis/Baumann/rrs/MOLNG-2243/H77NNBCX2/   \n",
       "1  /n/analysis/Baumann/rrs/MOLNG-2243/H77NNBCX2/   \n",
       "\n",
       "                                                      read_2_FilePath  \n",
       "0  /n/analysis/Baumann/rrs/MOLNG-2243/H77NNBCX2/s_1_2_GTGAAA.fastq.gz  \n",
       "1  /n/analysis/Baumann/rrs/MOLNG-2243/H77NNBCX2/s_2_2_GTGAAA.fastq.gz  \n",
       "\n",
       "[2 rows x 34 columns]"
      ]
     },
     "execution_count": 13,
     "metadata": {},
     "output_type": "execute_result"
    }
   ],
   "source": [
    "read_1 = molng2243[molng2243['Read']==1].copy().reset_index(drop=True)\n",
    "read_1.columns = ['read_1_' + c for c in read_1.columns]\n",
    "read_2 = molng2243[molng2243['Read']==2].copy().reset_index(drop=True)\n",
    "read_2.columns = ['read_2_' + c for c in read_2.columns]\n",
    "longReads = pd.concat([read_1,read_2],1)\n",
    "longReads"
   ]
  },
  {
   "cell_type": "code",
   "execution_count": 14,
   "metadata": {
    "ExecuteTime": {
     "end_time": "2018-03-12T16:00:22.433833Z",
     "start_time": "2018-03-12T16:00:22.369259Z"
    }
   },
   "outputs": [
    {
     "data": {
      "text/html": [
       "<div>\n",
       "<style scoped>\n",
       "    .dataframe tbody tr th:only-of-type {\n",
       "        vertical-align: middle;\n",
       "    }\n",
       "\n",
       "    .dataframe tbody tr th {\n",
       "        vertical-align: top;\n",
       "    }\n",
       "\n",
       "    .dataframe thead th {\n",
       "        text-align: right;\n",
       "    }\n",
       "</style>\n",
       "<table border=\"1\" class=\"dataframe\">\n",
       "  <thead>\n",
       "    <tr style=\"text-align: right;\">\n",
       "      <th></th>\n",
       "      <th>read_1_Output</th>\n",
       "      <th>read_1_Order</th>\n",
       "      <th>read_1_OrderType</th>\n",
       "      <th>read_1_Lane</th>\n",
       "      <th>read_1_SampleName</th>\n",
       "      <th>read_1_LibraryID</th>\n",
       "      <th>read_1_IndexSequence1</th>\n",
       "      <th>read_1_IndexSequence2</th>\n",
       "      <th>read_1_Read</th>\n",
       "      <th>read_1_Reference</th>\n",
       "      <th>...</th>\n",
       "      <th>read_2_Type</th>\n",
       "      <th>read_2_ReadLength</th>\n",
       "      <th>read_2_FlowcellPath</th>\n",
       "      <th>read_2_FilePath</th>\n",
       "      <th>read_1_trim_paired_output</th>\n",
       "      <th>read_2_trim_paired_output</th>\n",
       "      <th>read_1_trim_unpaired_output</th>\n",
       "      <th>read_2_trim_unpaired_output</th>\n",
       "      <th>trim_log</th>\n",
       "      <th>trim_stdout</th>\n",
       "    </tr>\n",
       "  </thead>\n",
       "  <tbody>\n",
       "    <tr>\n",
       "      <th>0</th>\n",
       "      <td>s_1_1_GTGAAA.fastq.gz</td>\n",
       "      <td>MOLNG-2243</td>\n",
       "      <td>DNA-Seq (1ug)</td>\n",
       "      <td>1</td>\n",
       "      <td>A_neomexicana_16923</td>\n",
       "      <td>L32314</td>\n",
       "      <td>GTGAAA</td>\n",
       "      <td>NaN</td>\n",
       "      <td>1</td>\n",
       "      <td>None</td>\n",
       "      <td>...</td>\n",
       "      <td>Paired Reads</td>\n",
       "      <td>251</td>\n",
       "      <td>/n/analysis/Baumann/rrs/MOLNG-2243/H77NNBCX2/</td>\n",
       "      <td>/n/analysis/Baumann/rrs/MOLNG-2243/H77NNBCX2/s_1_2_GTGAAA.fastq.gz</td>\n",
       "      <td>../data/read_trimming/s_1_1_GTGAAA.paired_trimmed.fastq.gz</td>\n",
       "      <td>../data/read_trimming/s_1_2_GTGAAA.paired_trimmed.fastq.gz</td>\n",
       "      <td>../data/read_trimming/s_1_1_GTGAAA.unpaired_trimmed.fastq.gz</td>\n",
       "      <td>../data/read_trimming/s_1_2_GTGAAA.unpaired_trimmed.fastq.gz</td>\n",
       "      <td>../data/read_trimming/lane_1_A_neomexicana_16923.trimlog</td>\n",
       "      <td>../data/read_trimming/lane_1_A_neomexicana_16923.stdout</td>\n",
       "    </tr>\n",
       "    <tr>\n",
       "      <th>1</th>\n",
       "      <td>s_2_1_GTGAAA.fastq.gz</td>\n",
       "      <td>MOLNG-2243</td>\n",
       "      <td>DNA-Seq (1ug)</td>\n",
       "      <td>2</td>\n",
       "      <td>A_neomexicana_16923</td>\n",
       "      <td>L32314</td>\n",
       "      <td>GTGAAA</td>\n",
       "      <td>NaN</td>\n",
       "      <td>1</td>\n",
       "      <td>None</td>\n",
       "      <td>...</td>\n",
       "      <td>Paired Reads</td>\n",
       "      <td>251</td>\n",
       "      <td>/n/analysis/Baumann/rrs/MOLNG-2243/H77NNBCX2/</td>\n",
       "      <td>/n/analysis/Baumann/rrs/MOLNG-2243/H77NNBCX2/s_2_2_GTGAAA.fastq.gz</td>\n",
       "      <td>../data/read_trimming/s_2_1_GTGAAA.paired_trimmed.fastq.gz</td>\n",
       "      <td>../data/read_trimming/s_2_2_GTGAAA.paired_trimmed.fastq.gz</td>\n",
       "      <td>../data/read_trimming/s_2_1_GTGAAA.unpaired_trimmed.fastq.gz</td>\n",
       "      <td>../data/read_trimming/s_2_2_GTGAAA.unpaired_trimmed.fastq.gz</td>\n",
       "      <td>../data/read_trimming/lane_2_A_neomexicana_16923.trimlog</td>\n",
       "      <td>../data/read_trimming/lane_2_A_neomexicana_16923.stdout</td>\n",
       "    </tr>\n",
       "  </tbody>\n",
       "</table>\n",
       "<p>2 rows × 40 columns</p>\n",
       "</div>"
      ],
      "text/plain": [
       "           read_1_Output read_1_Order read_1_OrderType  read_1_Lane  \\\n",
       "0  s_1_1_GTGAAA.fastq.gz  MOLNG-2243   DNA-Seq (1ug)    1             \n",
       "1  s_2_1_GTGAAA.fastq.gz  MOLNG-2243   DNA-Seq (1ug)    2             \n",
       "\n",
       "     read_1_SampleName read_1_LibraryID read_1_IndexSequence1  \\\n",
       "0  A_neomexicana_16923  L32314           GTGAAA                 \n",
       "1  A_neomexicana_16923  L32314           GTGAAA                 \n",
       "\n",
       "   read_1_IndexSequence2  read_1_Read read_1_Reference  \\\n",
       "0 NaN                     1            None              \n",
       "1 NaN                     1            None              \n",
       "\n",
       "                            ...                              read_2_Type  \\\n",
       "0                           ...                             Paired Reads   \n",
       "1                           ...                             Paired Reads   \n",
       "\n",
       "   read_2_ReadLength                            read_2_FlowcellPath  \\\n",
       "0  251                /n/analysis/Baumann/rrs/MOLNG-2243/H77NNBCX2/   \n",
       "1  251                /n/analysis/Baumann/rrs/MOLNG-2243/H77NNBCX2/   \n",
       "\n",
       "                                                      read_2_FilePath  \\\n",
       "0  /n/analysis/Baumann/rrs/MOLNG-2243/H77NNBCX2/s_1_2_GTGAAA.fastq.gz   \n",
       "1  /n/analysis/Baumann/rrs/MOLNG-2243/H77NNBCX2/s_2_2_GTGAAA.fastq.gz   \n",
       "\n",
       "                                    read_1_trim_paired_output  \\\n",
       "0  ../data/read_trimming/s_1_1_GTGAAA.paired_trimmed.fastq.gz   \n",
       "1  ../data/read_trimming/s_2_1_GTGAAA.paired_trimmed.fastq.gz   \n",
       "\n",
       "                                    read_2_trim_paired_output  \\\n",
       "0  ../data/read_trimming/s_1_2_GTGAAA.paired_trimmed.fastq.gz   \n",
       "1  ../data/read_trimming/s_2_2_GTGAAA.paired_trimmed.fastq.gz   \n",
       "\n",
       "                                    read_1_trim_unpaired_output  \\\n",
       "0  ../data/read_trimming/s_1_1_GTGAAA.unpaired_trimmed.fastq.gz   \n",
       "1  ../data/read_trimming/s_2_1_GTGAAA.unpaired_trimmed.fastq.gz   \n",
       "\n",
       "                                    read_2_trim_unpaired_output  \\\n",
       "0  ../data/read_trimming/s_1_2_GTGAAA.unpaired_trimmed.fastq.gz   \n",
       "1  ../data/read_trimming/s_2_2_GTGAAA.unpaired_trimmed.fastq.gz   \n",
       "\n",
       "                                                   trim_log  \\\n",
       "0  ../data/read_trimming/lane_1_A_neomexicana_16923.trimlog   \n",
       "1  ../data/read_trimming/lane_2_A_neomexicana_16923.trimlog   \n",
       "\n",
       "                                               trim_stdout  \n",
       "0  ../data/read_trimming/lane_1_A_neomexicana_16923.stdout  \n",
       "1  ../data/read_trimming/lane_2_A_neomexicana_16923.stdout  \n",
       "\n",
       "[2 rows x 40 columns]"
      ]
     },
     "execution_count": 14,
     "metadata": {},
     "output_type": "execute_result"
    }
   ],
   "source": [
    "longReads['read_1_trim_paired_output'] = longReads['read_1_Output'].apply(lambda filename: '../data/read_trimming/' + filename.replace('.fastq.gz', '.paired_trimmed.fastq.gz'))\n",
    "longReads['read_2_trim_paired_output'] = longReads['read_2_Output'].apply(lambda filename: '../data/read_trimming/' + filename.replace('.fastq.gz', '.paired_trimmed.fastq.gz'))\n",
    "longReads['read_1_trim_unpaired_output'] = longReads['read_1_Output'].apply(lambda filename: '../data/read_trimming/' + filename.replace('.fastq.gz', '.unpaired_trimmed.fastq.gz'))\n",
    "longReads['read_2_trim_unpaired_output'] = longReads['read_2_Output'].apply(lambda filename: '../data/read_trimming/' + filename.replace('.fastq.gz', '.unpaired_trimmed.fastq.gz'))\n",
    "longReads['trim_log'] = longReads['read_1_Lane'].apply(lambda x: '../data/read_trimming/lane_{}_A_neomexicana_16923.trimlog'.format(x))\n",
    "longReads['trim_stdout'] = longReads['read_1_Lane'].apply(lambda x: '../data/read_trimming/lane_{}_A_neomexicana_16923.stdout'.format(x))\n",
    "\n",
    "longReads\n"
   ]
  },
  {
   "cell_type": "code",
   "execution_count": 15,
   "metadata": {
    "ExecuteTime": {
     "end_time": "2018-03-12T16:00:22.485636Z",
     "start_time": "2018-03-12T16:00:22.435822Z"
    }
   },
   "outputs": [
    {
     "data": {
      "text/html": [
       "<div>\n",
       "<style scoped>\n",
       "    .dataframe tbody tr th:only-of-type {\n",
       "        vertical-align: middle;\n",
       "    }\n",
       "\n",
       "    .dataframe tbody tr th {\n",
       "        vertical-align: top;\n",
       "    }\n",
       "\n",
       "    .dataframe thead th {\n",
       "        text-align: right;\n",
       "    }\n",
       "</style>\n",
       "<table border=\"1\" class=\"dataframe\">\n",
       "  <thead>\n",
       "    <tr style=\"text-align: right;\">\n",
       "      <th></th>\n",
       "      <th>read_1_Output</th>\n",
       "      <th>read_1_Order</th>\n",
       "      <th>read_1_OrderType</th>\n",
       "      <th>read_1_Lane</th>\n",
       "      <th>read_1_SampleName</th>\n",
       "      <th>read_1_LibraryID</th>\n",
       "      <th>read_1_IndexSequence1</th>\n",
       "      <th>read_1_IndexSequence2</th>\n",
       "      <th>read_1_Read</th>\n",
       "      <th>read_1_Reference</th>\n",
       "      <th>...</th>\n",
       "      <th>read_2_ReadLength</th>\n",
       "      <th>read_2_FlowcellPath</th>\n",
       "      <th>read_2_FilePath</th>\n",
       "      <th>read_1_trim_paired_output</th>\n",
       "      <th>read_2_trim_paired_output</th>\n",
       "      <th>read_1_trim_unpaired_output</th>\n",
       "      <th>read_2_trim_unpaired_output</th>\n",
       "      <th>trim_log</th>\n",
       "      <th>trim_stdout</th>\n",
       "      <th>trim_command</th>\n",
       "    </tr>\n",
       "  </thead>\n",
       "  <tbody>\n",
       "    <tr>\n",
       "      <th>0</th>\n",
       "      <td>s_1_1_GTGAAA.fastq.gz</td>\n",
       "      <td>MOLNG-2243</td>\n",
       "      <td>DNA-Seq (1ug)</td>\n",
       "      <td>1</td>\n",
       "      <td>A_neomexicana_16923</td>\n",
       "      <td>L32314</td>\n",
       "      <td>GTGAAA</td>\n",
       "      <td>NaN</td>\n",
       "      <td>1</td>\n",
       "      <td>None</td>\n",
       "      <td>...</td>\n",
       "      <td>251</td>\n",
       "      <td>/n/analysis/Baumann/rrs/MOLNG-2243/H77NNBCX2/</td>\n",
       "      <td>/n/analysis/Baumann/rrs/MOLNG-2243/H77NNBCX2/s_1_2_GTGAAA.fastq.gz</td>\n",
       "      <td>../data/read_trimming/s_1_1_GTGAAA.paired_trimmed.fastq.gz</td>\n",
       "      <td>../data/read_trimming/s_1_2_GTGAAA.paired_trimmed.fastq.gz</td>\n",
       "      <td>../data/read_trimming/s_1_1_GTGAAA.unpaired_trimmed.fastq.gz</td>\n",
       "      <td>../data/read_trimming/s_1_2_GTGAAA.unpaired_trimmed.fastq.gz</td>\n",
       "      <td>../data/read_trimming/lane_1_A_neomexicana_16923.trimlog</td>\n",
       "      <td>../data/read_trimming/lane_1_A_neomexicana_16923.stdout</td>\n",
       "      <td>java -jar ../bin/Trimmomatic-0.36/trimmomatic-0.36.jar PE -phred33 -threads 16 -trimlog ../data/read_trimming/lane_1_A_neomexicana_16923.trimlog /n/analysis/Baumann/rrs/MOLNG-2243/H77NNBCX2/s_1_1_GTGAAA.fastq.gz /n/analysis/Baumann/rrs/MOLNG-2243/H77NNBCX2/s_1_2_GTGAAA.fastq.gz ../data/read_trimming/s_1_1_GTGAAA.paired_trimmed.fastq.gz ../data/read_trimming/s_1_1_GTGAAA.unpaired_trimmed.fastq.gz ../data/read_trimming/s_1_2_GTGAAA.paired_trimmed.fastq.gz ../data/read_trimming/s_1_2_GTGAAA.unpaired_trimmed.fastq.gz ILLUMINACLIP:../bin/Trimmomatic-0.36/adapters/all_adapters.fa:2:30:10 LEADING:3 TRAILING:3 SLIDINGWINDOW:4:15 MINLEN:36 &amp;&gt; ../data/read_trimming/lane_1_A_neomexicana_16923.stdout</td>\n",
       "    </tr>\n",
       "    <tr>\n",
       "      <th>1</th>\n",
       "      <td>s_2_1_GTGAAA.fastq.gz</td>\n",
       "      <td>MOLNG-2243</td>\n",
       "      <td>DNA-Seq (1ug)</td>\n",
       "      <td>2</td>\n",
       "      <td>A_neomexicana_16923</td>\n",
       "      <td>L32314</td>\n",
       "      <td>GTGAAA</td>\n",
       "      <td>NaN</td>\n",
       "      <td>1</td>\n",
       "      <td>None</td>\n",
       "      <td>...</td>\n",
       "      <td>251</td>\n",
       "      <td>/n/analysis/Baumann/rrs/MOLNG-2243/H77NNBCX2/</td>\n",
       "      <td>/n/analysis/Baumann/rrs/MOLNG-2243/H77NNBCX2/s_2_2_GTGAAA.fastq.gz</td>\n",
       "      <td>../data/read_trimming/s_2_1_GTGAAA.paired_trimmed.fastq.gz</td>\n",
       "      <td>../data/read_trimming/s_2_2_GTGAAA.paired_trimmed.fastq.gz</td>\n",
       "      <td>../data/read_trimming/s_2_1_GTGAAA.unpaired_trimmed.fastq.gz</td>\n",
       "      <td>../data/read_trimming/s_2_2_GTGAAA.unpaired_trimmed.fastq.gz</td>\n",
       "      <td>../data/read_trimming/lane_2_A_neomexicana_16923.trimlog</td>\n",
       "      <td>../data/read_trimming/lane_2_A_neomexicana_16923.stdout</td>\n",
       "      <td>java -jar ../bin/Trimmomatic-0.36/trimmomatic-0.36.jar PE -phred33 -threads 16 -trimlog ../data/read_trimming/lane_2_A_neomexicana_16923.trimlog /n/analysis/Baumann/rrs/MOLNG-2243/H77NNBCX2/s_2_1_GTGAAA.fastq.gz /n/analysis/Baumann/rrs/MOLNG-2243/H77NNBCX2/s_2_2_GTGAAA.fastq.gz ../data/read_trimming/s_2_1_GTGAAA.paired_trimmed.fastq.gz ../data/read_trimming/s_2_1_GTGAAA.unpaired_trimmed.fastq.gz ../data/read_trimming/s_2_2_GTGAAA.paired_trimmed.fastq.gz ../data/read_trimming/s_2_2_GTGAAA.unpaired_trimmed.fastq.gz ILLUMINACLIP:../bin/Trimmomatic-0.36/adapters/all_adapters.fa:2:30:10 LEADING:3 TRAILING:3 SLIDINGWINDOW:4:15 MINLEN:36 &amp;&gt; ../data/read_trimming/lane_2_A_neomexicana_16923.stdout</td>\n",
       "    </tr>\n",
       "  </tbody>\n",
       "</table>\n",
       "<p>2 rows × 41 columns</p>\n",
       "</div>"
      ],
      "text/plain": [
       "           read_1_Output read_1_Order read_1_OrderType  read_1_Lane  \\\n",
       "0  s_1_1_GTGAAA.fastq.gz  MOLNG-2243   DNA-Seq (1ug)    1             \n",
       "1  s_2_1_GTGAAA.fastq.gz  MOLNG-2243   DNA-Seq (1ug)    2             \n",
       "\n",
       "     read_1_SampleName read_1_LibraryID read_1_IndexSequence1  \\\n",
       "0  A_neomexicana_16923  L32314           GTGAAA                 \n",
       "1  A_neomexicana_16923  L32314           GTGAAA                 \n",
       "\n",
       "   read_1_IndexSequence2  read_1_Read read_1_Reference  \\\n",
       "0 NaN                     1            None              \n",
       "1 NaN                     1            None              \n",
       "\n",
       "                                                                                                                                                                                                                                                                                                                                                             ...                                                                                                                                                                                                                                                                                                                                                              \\\n",
       "0                                                                                                                                                                                                                                                                                                                                                            ...                                                                                                                                                                                                                                                                                                                                                               \n",
       "1                                                                                                                                                                                                                                                                                                                                                            ...                                                                                                                                                                                                                                                                                                                                                               \n",
       "\n",
       "  read_2_ReadLength                            read_2_FlowcellPath  \\\n",
       "0  251               /n/analysis/Baumann/rrs/MOLNG-2243/H77NNBCX2/   \n",
       "1  251               /n/analysis/Baumann/rrs/MOLNG-2243/H77NNBCX2/   \n",
       "\n",
       "                                                      read_2_FilePath  \\\n",
       "0  /n/analysis/Baumann/rrs/MOLNG-2243/H77NNBCX2/s_1_2_GTGAAA.fastq.gz   \n",
       "1  /n/analysis/Baumann/rrs/MOLNG-2243/H77NNBCX2/s_2_2_GTGAAA.fastq.gz   \n",
       "\n",
       "                                    read_1_trim_paired_output  \\\n",
       "0  ../data/read_trimming/s_1_1_GTGAAA.paired_trimmed.fastq.gz   \n",
       "1  ../data/read_trimming/s_2_1_GTGAAA.paired_trimmed.fastq.gz   \n",
       "\n",
       "                                    read_2_trim_paired_output  \\\n",
       "0  ../data/read_trimming/s_1_2_GTGAAA.paired_trimmed.fastq.gz   \n",
       "1  ../data/read_trimming/s_2_2_GTGAAA.paired_trimmed.fastq.gz   \n",
       "\n",
       "                                    read_1_trim_unpaired_output  \\\n",
       "0  ../data/read_trimming/s_1_1_GTGAAA.unpaired_trimmed.fastq.gz   \n",
       "1  ../data/read_trimming/s_2_1_GTGAAA.unpaired_trimmed.fastq.gz   \n",
       "\n",
       "                                    read_2_trim_unpaired_output  \\\n",
       "0  ../data/read_trimming/s_1_2_GTGAAA.unpaired_trimmed.fastq.gz   \n",
       "1  ../data/read_trimming/s_2_2_GTGAAA.unpaired_trimmed.fastq.gz   \n",
       "\n",
       "                                                   trim_log  \\\n",
       "0  ../data/read_trimming/lane_1_A_neomexicana_16923.trimlog   \n",
       "1  ../data/read_trimming/lane_2_A_neomexicana_16923.trimlog   \n",
       "\n",
       "                                               trim_stdout  \\\n",
       "0  ../data/read_trimming/lane_1_A_neomexicana_16923.stdout   \n",
       "1  ../data/read_trimming/lane_2_A_neomexicana_16923.stdout   \n",
       "\n",
       "                                                                                                                                                                                                                                                                                                                                                                                                                                                                                                                                                                                                                                                                                                                trim_command  \n",
       "0  java -jar ../bin/Trimmomatic-0.36/trimmomatic-0.36.jar PE -phred33 -threads 16 -trimlog ../data/read_trimming/lane_1_A_neomexicana_16923.trimlog /n/analysis/Baumann/rrs/MOLNG-2243/H77NNBCX2/s_1_1_GTGAAA.fastq.gz /n/analysis/Baumann/rrs/MOLNG-2243/H77NNBCX2/s_1_2_GTGAAA.fastq.gz ../data/read_trimming/s_1_1_GTGAAA.paired_trimmed.fastq.gz ../data/read_trimming/s_1_1_GTGAAA.unpaired_trimmed.fastq.gz ../data/read_trimming/s_1_2_GTGAAA.paired_trimmed.fastq.gz ../data/read_trimming/s_1_2_GTGAAA.unpaired_trimmed.fastq.gz ILLUMINACLIP:../bin/Trimmomatic-0.36/adapters/all_adapters.fa:2:30:10 LEADING:3 TRAILING:3 SLIDINGWINDOW:4:15 MINLEN:36 &> ../data/read_trimming/lane_1_A_neomexicana_16923.stdout  \n",
       "1  java -jar ../bin/Trimmomatic-0.36/trimmomatic-0.36.jar PE -phred33 -threads 16 -trimlog ../data/read_trimming/lane_2_A_neomexicana_16923.trimlog /n/analysis/Baumann/rrs/MOLNG-2243/H77NNBCX2/s_2_1_GTGAAA.fastq.gz /n/analysis/Baumann/rrs/MOLNG-2243/H77NNBCX2/s_2_2_GTGAAA.fastq.gz ../data/read_trimming/s_2_1_GTGAAA.paired_trimmed.fastq.gz ../data/read_trimming/s_2_1_GTGAAA.unpaired_trimmed.fastq.gz ../data/read_trimming/s_2_2_GTGAAA.paired_trimmed.fastq.gz ../data/read_trimming/s_2_2_GTGAAA.unpaired_trimmed.fastq.gz ILLUMINACLIP:../bin/Trimmomatic-0.36/adapters/all_adapters.fa:2:30:10 LEADING:3 TRAILING:3 SLIDINGWINDOW:4:15 MINLEN:36 &> ../data/read_trimming/lane_2_A_neomexicana_16923.stdout  \n",
       "\n",
       "[2 rows x 41 columns]"
      ]
     },
     "execution_count": 15,
     "metadata": {},
     "output_type": "execute_result"
    }
   ],
   "source": [
    "longReads['trim_command'] = longReads.apply(lambda row: ''.join(\n",
    "    [\n",
    "        \"java -jar ../bin/Trimmomatic-0.36/trimmomatic-0.36.jar PE -phred33 -threads 16 -trimlog {} \".format(row['trim_log']),\n",
    "        \"{} {} \".format(row['read_1_FilePath'], row['read_2_FilePath']),\n",
    "        \"{} {} \".format(row['read_1_trim_paired_output'], row['read_1_trim_unpaired_output']),\n",
    "        \"{} {} \".format(row['read_2_trim_paired_output'], row['read_2_trim_unpaired_output']),\n",
    "        \"ILLUMINACLIP:../bin/Trimmomatic-0.36/adapters/all_adapters.fa:2:30:10 LEADING:3 TRAILING:3 SLIDINGWINDOW:4:15 MINLEN:36 \",\n",
    "        \"&> {}\".format(row['trim_stdout'])\n",
    "    ]\n",
    "                                                               ),\n",
    "                                           axis =1)\n",
    "longReads"
   ]
  },
  {
   "cell_type": "code",
   "execution_count": 16,
   "metadata": {
    "ExecuteTime": {
     "end_time": "2018-03-12T16:00:22.517826Z",
     "start_time": "2018-03-12T16:00:22.487459Z"
    },
    "collapsed": true
   },
   "outputs": [],
   "source": [
    "with open('../bin/trim_commands.txt', 'w') as fw:\n",
    "    fw.write('\\n'.join(longReads['trim_command'].tolist()) + '\\n')"
   ]
  },
  {
   "cell_type": "code",
   "execution_count": 17,
   "metadata": {
    "ExecuteTime": {
     "end_time": "2018-03-12T16:00:22.635684Z",
     "start_time": "2018-03-12T16:00:22.519992Z"
    }
   },
   "outputs": [
    {
     "name": "stdout",
     "output_type": "stream",
     "text": [
      "java -jar ../bin/Trimmomatic-0.36/trimmomatic-0.36.jar PE -phred33 -threads 16 -trimlog ../data/read_trimming/lane_1_A_neomexicana_16923.trimlog /n/analysis/Baumann/rrs/MOLNG-2243/H77NNBCX2/s_1_1_GTGAAA.fastq.gz /n/analysis/Baumann/rrs/MOLNG-2243/H77NNBCX2/s_1_2_GTGAAA.fastq.gz ../data/read_trimming/s_1_1_GTGAAA.paired_trimmed.fastq.gz ../data/read_trimming/s_1_1_GTGAAA.unpaired_trimmed.fastq.gz ../data/read_trimming/s_1_2_GTGAAA.paired_trimmed.fastq.gz ../data/read_trimming/s_1_2_GTGAAA.unpaired_trimmed.fastq.gz ILLUMINACLIP:../bin/Trimmomatic-0.36/adapters/all_adapters.fa:2:30:10 LEADING:3 TRAILING:3 SLIDINGWINDOW:4:15 MINLEN:36 &> ../data/read_trimming/lane_1_A_neomexicana_16923.stdout\n",
      "java -jar ../bin/Trimmomatic-0.36/trimmomatic-0.36.jar PE -phred33 -threads 16 -trimlog ../data/read_trimming/lane_2_A_neomexicana_16923.trimlog /n/analysis/Baumann/rrs/MOLNG-2243/H77NNBCX2/s_2_1_GTGAAA.fastq.gz /n/analysis/Baumann/rrs/MOLNG-2243/H77NNBCX2/s_2_2_GTGAAA.fastq.gz ../data/read_trimming/s_2_1_GTGAAA.paired_trimmed.fastq.gz ../data/read_trimming/s_2_1_GTGAAA.unpaired_trimmed.fastq.gz ../data/read_trimming/s_2_2_GTGAAA.paired_trimmed.fastq.gz ../data/read_trimming/s_2_2_GTGAAA.unpaired_trimmed.fastq.gz ILLUMINACLIP:../bin/Trimmomatic-0.36/adapters/all_adapters.fa:2:30:10 LEADING:3 TRAILING:3 SLIDINGWINDOW:4:15 MINLEN:36 &> ../data/read_trimming/lane_2_A_neomexicana_16923.stdout\n"
     ]
    }
   ],
   "source": [
    "%%bash\n",
    "cat ../bin/trim_commands.txt\n",
    "#nohup parallel --no-notice -j 32 :::: ../bin/trim_commands.txt &> ../bin/trim_commands.out &"
   ]
  },
  {
   "cell_type": "markdown",
   "metadata": {
    "collapsed": true
   },
   "source": [
    "## Kmergenie"
   ]
  },
  {
   "cell_type": "code",
   "execution_count": 18,
   "metadata": {
    "ExecuteTime": {
     "end_time": "2018-03-12T16:00:22.742865Z",
     "start_time": "2018-03-12T16:00:22.640499Z"
    },
    "collapsed": true
   },
   "outputs": [],
   "source": [
    "%%bash\n",
    "cd ../bin/\n",
    "#wget http://kmergenie.bx.psu.edu/kmergenie-1.7044.tar.gz\n",
    "#tar zxvf kmergenie-1.7044.tar.gz\n",
    "#cd kmergenie-1.7044\n",
    "#make"
   ]
  },
  {
   "cell_type": "code",
   "execution_count": 19,
   "metadata": {
    "ExecuteTime": {
     "end_time": "2018-03-12T16:00:22.842314Z",
     "start_time": "2018-03-12T16:00:22.747320Z"
    },
    "collapsed": true
   },
   "outputs": [],
   "source": [
    "%%bash\n",
    "cd ../data/\n",
    "#mkdir kmergenie"
   ]
  },
  {
   "cell_type": "code",
   "execution_count": 20,
   "metadata": {
    "ExecuteTime": {
     "end_time": "2018-03-12T16:00:24.057996Z",
     "start_time": "2018-03-12T16:00:22.846725Z"
    }
   },
   "outputs": [
    {
     "name": "stderr",
     "output_type": "stream",
     "text": [
      "KmerGenie 1.7044\n",
      "\n",
      "Usage:\n",
      "    kmergenie <read_file> [options]\n",
      "\n",
      "Options:\n",
      "    --diploid    use the diploid model (default: haploid model)\n",
      "    --one-pass   skip the second pass to estimate k at 2 bp resolution (default: two passes)\n",
      "    -k <value>   largest k-mer size to consider (default: 121)\n",
      "    -l <value>   smallest k-mer size to consider (default: 15)\n",
      "    -s <value>   interval between consecutive kmer sizes (default: 10)\n",
      "    -e <value>   k-mer sampling value (default: auto-detected to use ~200 MB memory/thread)\n",
      "    -t <value>   number of threads (default: number of cores minus one)\n",
      "    -o <prefix>  prefix of the output files (default: histograms)\n",
      "    --debug      developer output of R scripts\n",
      "    --orig-hist  legacy histogram estimation method (slower, less accurate)\n"
     ]
    }
   ],
   "source": [
    "%%bash\n",
    "./../bin/kmergenie-1.7044/kmergenie"
   ]
  },
  {
   "cell_type": "code",
   "execution_count": 21,
   "metadata": {
    "ExecuteTime": {
     "end_time": "2018-03-12T16:00:24.084298Z",
     "start_time": "2018-03-12T16:00:24.066521Z"
    },
    "collapsed": true
   },
   "outputs": [],
   "source": [
    "with open('../data/kmergenie/kmergenie_readlist.txt', 'w') as fw:\n",
    "    fw.write('\\n'.join(longReads['read_1_trim_paired_output'].tolist() + longReads['read_2_trim_paired_output'].tolist()) + '\\n')"
   ]
  },
  {
   "cell_type": "code",
   "execution_count": 22,
   "metadata": {
    "ExecuteTime": {
     "end_time": "2018-03-12T16:00:24.166595Z",
     "start_time": "2018-03-12T16:00:24.086441Z"
    },
    "collapsed": true
   },
   "outputs": [],
   "source": [
    "%%bash\n",
    "#nohup ./../bin/kmergenie-1.7044/kmergenie ../data/kmergenie/kmergenie_readlist.txt --diploid -k 201 -t 40 -o ../data/kmergenie/A_neomexicana_16923_KmerGenie_ &> ../data/kmergenie/A_neomexicana_16923_KmerGenie.out &"
   ]
  },
  {
   "cell_type": "markdown",
   "metadata": {},
   "source": [
    "## Optimized Run"
   ]
  },
  {
   "cell_type": "code",
   "execution_count": 23,
   "metadata": {
    "ExecuteTime": {
     "end_time": "2018-03-12T16:00:24.277269Z",
     "start_time": "2018-03-12T16:00:24.169237Z"
    }
   },
   "outputs": [
    {
     "name": "stdout",
     "output_type": "stream",
     "text": [
      "###################################\n",
      "#\n",
      "#  Meraculous params file\n",
      "#\n",
      "###################################\n",
      "\n",
      "\n",
      "#######################################\n",
      "#\n",
      "# Basic parameters\n",
      "#\n",
      "########################################\n",
      "\n",
      "\n",
      "\n",
      "# Describe the libraries ( one line per library )\n",
      "# lib_seq [ wildcard ][ prefix ][ insAvg ][ insSdev ][ avgReadLen ][ hasInnieArtifact ][ isRevComped ][ useForContigging ][ onoSetId ][ useForGapClosing ][ 5pWiggleRoom ][3pWiggleRoom]\n",
      "#\n",
      "\n",
      "lib_seq\t/n/projects/dut/a_neomexicana/meraculous_assembly/data/read_trimming/s_*_1_*.paired_trimmed.fastq.gz,/n/projects/dut/a_neomexicana/meraculous_assembly/data/read_trimming/s_*_2_*.paired_trimmed.fastq.gz  FRA  500  100   251 0 0\t  1 1 1  0 0\n",
      "\n",
      "genome_size   3.18\n",
      "\n",
      "diploid_mode\t1\n",
      "\n",
      "mer_size 125\n",
      "\n",
      "min_depth_cutoff\t3\n",
      "\n",
      "num_prefix_blocks 1\n",
      "\n",
      "\n",
      "#################################################\n",
      "#\n",
      "# Advanced parameters \n",
      "#\n",
      "#################################################\n",
      "\n",
      "no_read_validation 0\n",
      "\n",
      "use_cluster 0\n",
      "\n",
      "local_num_procs       40\n",
      "\n",
      "local_max_retries\t\t  1\n",
      "\n",
      "\n",
      "\n"
     ]
    }
   ],
   "source": [
    "%%bash\n",
    "cat ../data/meraculous2.config"
   ]
  },
  {
   "cell_type": "code",
   "execution_count": 24,
   "metadata": {
    "ExecuteTime": {
     "end_time": "2018-03-12T16:00:24.345703Z",
     "start_time": "2018-03-12T16:00:24.280424Z"
    },
    "collapsed": true
   },
   "outputs": [],
   "source": [
    "%%bash\n",
    "cd ../data\n",
    "#nohup run_meraculous.sh -c ./meraculous2.config &> ./run_merc2_nohup.out &"
   ]
  },
  {
   "cell_type": "code",
   "execution_count": 25,
   "metadata": {
    "ExecuteTime": {
     "end_time": "2018-03-12T16:00:28.667472Z",
     "start_time": "2018-03-12T16:00:24.348118Z"
    },
    "collapsed": true
   },
   "outputs": [],
   "source": [
    "refinedRunFa = fa.Fasta_file('../data/run_2018-03-02_18h02m42s/meraculous_final_results/final.scaffolds.fa')"
   ]
  },
  {
   "cell_type": "code",
   "execution_count": 26,
   "metadata": {
    "ExecuteTime": {
     "end_time": "2018-03-12T16:00:29.094860Z",
     "start_time": "2018-03-12T16:00:28.670984Z"
    }
   },
   "outputs": [
    {
     "name": "stdout",
     "output_type": "stream",
     "text": [
      "max_scaffold 110657\n",
      "min_scaffold 1000\n",
      "mean_scaffold 3491.33257077\n",
      "median_scaffold 2684.0\n",
      "N50 4414\n",
      "N90 1731\n",
      "scaffolds_greater_than_10kb 2272\n",
      "scaffolds_greater_than_100kb 1\n",
      "scaffolds_greater_than_1Mb 0\n",
      "scaffolds_greater_than_10Mb 0\n",
      "scaffolds_greater_than_100Mb 0\n",
      "perc_genome_covered_by_scaffolds_greater_than_10kb 11.05139468694398\n",
      "perc_genome_covered_by_scaffolds_greater_than_100kb 0.03983957830913265\n",
      "perc_genome_covered_by_scaffolds_greater_than_1mb 0.0\n",
      "number of scaffolds 79556\n",
      "total bases 277756454\n"
     ]
    }
   ],
   "source": [
    "refinedRunFa.get_stats()"
   ]
  },
  {
   "cell_type": "code",
   "execution_count": 27,
   "metadata": {
    "ExecuteTime": {
     "end_time": "2018-03-12T16:01:37.923012Z",
     "start_time": "2018-03-12T16:00:29.096879Z"
    },
    "collapsed": true
   },
   "outputs": [],
   "source": [
    "refinedContigsRunFa = fa.Fasta_file('../data/run_2018-03-02_18h02m42s/meraculous_contigs/UUtigs.fa')"
   ]
  },
  {
   "cell_type": "code",
   "execution_count": 28,
   "metadata": {
    "ExecuteTime": {
     "end_time": "2018-03-12T16:02:27.463401Z",
     "start_time": "2018-03-12T16:01:37.925784Z"
    }
   },
   "outputs": [
    {
     "name": "stdout",
     "output_type": "stream",
     "text": [
      "max_scaffold 39885\n",
      "min_scaffold 125\n",
      "mean_scaffold 419.710245133\n",
      "median_scaffold 130\n",
      "N50 1752\n",
      "N90 127\n",
      "scaffolds_greater_than_10kb 5155\n",
      "scaffolds_greater_than_100kb 0\n",
      "scaffolds_greater_than_1Mb 0\n",
      "scaffolds_greater_than_10Mb 0\n",
      "scaffolds_greater_than_100Mb 0\n",
      "perc_genome_covered_by_scaffolds_greater_than_10kb 1.3816270396339403\n",
      "perc_genome_covered_by_scaffolds_greater_than_100kb 0.0\n",
      "perc_genome_covered_by_scaffolds_greater_than_1mb 0.0\n",
      "number of scaffolds 10657695\n",
      "total bases 4473143781\n"
     ]
    }
   ],
   "source": [
    "refinedContigsRunFa.get_stats()"
   ]
  },
  {
   "cell_type": "markdown",
   "metadata": {},
   "source": [
    "## Optimized Haploid Run"
   ]
  },
  {
   "cell_type": "code",
   "execution_count": 29,
   "metadata": {
    "ExecuteTime": {
     "end_time": "2018-03-12T16:02:28.190578Z",
     "start_time": "2018-03-12T16:02:27.465768Z"
    }
   },
   "outputs": [
    {
     "name": "stdout",
     "output_type": "stream",
     "text": [
      "###################################\n",
      "#\n",
      "#  Meraculous params file\n",
      "#\n",
      "###################################\n",
      "\n",
      "\n",
      "#######################################\n",
      "#\n",
      "# Basic parameters\n",
      "#\n",
      "########################################\n",
      "\n",
      "\n",
      "\n",
      "# Describe the libraries ( one line per library )\n",
      "# lib_seq [ wildcard ][ prefix ][ insAvg ][ insSdev ][ avgReadLen ][ hasInnieArtifact ][ isRevComped ][ useForContigging ][ onoSetId ][ useForGapClosing ][ 5pWiggleRoom ][3pWiggleRoom]\n",
      "#\n",
      "\n",
      "lib_seq\t/n/projects/dut/a_neomexicana/meraculous_assembly/data/read_trimming/s_*_1_*.paired_trimmed.fastq.gz,/n/projects/dut/a_neomexicana/meraculous_assembly/data/read_trimming/s_*_2_*.paired_trimmed.fastq.gz  FRA  500  100   251 0 0\t  1 1 1  0 0\n",
      "\n",
      "genome_size   3.18\n",
      "\n",
      "diploid_mode\t0\n",
      "\n",
      "mer_size 125\n",
      "\n",
      "min_depth_cutoff\t3\n",
      "\n",
      "num_prefix_blocks 1\n",
      "\n",
      "\n",
      "#################################################\n",
      "#\n",
      "# Advanced parameters \n",
      "#\n",
      "#################################################\n",
      "\n",
      "no_read_validation 0\n",
      "\n",
      "use_cluster 0\n",
      "\n",
      "local_num_procs       30\n",
      "\n",
      "local_max_retries\t\t  1\n",
      "\n",
      "\n",
      "\n"
     ]
    }
   ],
   "source": [
    "%%bash\n",
    "cat ../data/meraculous3.config"
   ]
  },
  {
   "cell_type": "code",
   "execution_count": 30,
   "metadata": {
    "ExecuteTime": {
     "end_time": "2018-03-12T16:02:28.896616Z",
     "start_time": "2018-03-12T16:02:28.192896Z"
    },
    "collapsed": true
   },
   "outputs": [],
   "source": [
    "%%bash\n",
    "cd ../data\n",
    "#nohup run_meraculous.sh -c ./meraculous3.config &> ./run_merc3_nohup.out &"
   ]
  },
  {
   "cell_type": "code",
   "execution_count": 31,
   "metadata": {
    "ExecuteTime": {
     "end_time": "2018-03-12T16:02:29.619070Z",
     "start_time": "2018-03-12T16:02:28.899071Z"
    },
    "collapsed": true
   },
   "outputs": [],
   "source": [
    "%%bash\n",
    "cd ../data\n",
    "#nohup run_meraculous.sh -c ./meraculous3.config -dir run_2018-03-05_10h57m25s/ &> ./run_merc3.5_nohup.out &"
   ]
  },
  {
   "cell_type": "code",
   "execution_count": 32,
   "metadata": {
    "ExecuteTime": {
     "end_time": "2018-03-12T16:03:12.628809Z",
     "start_time": "2018-03-12T16:02:29.623001Z"
    },
    "collapsed": true
   },
   "outputs": [],
   "source": [
    "refined2RunFa = fa.Fasta_file('../data/run_2018-03-05_10h57m25s/meraculous_final_results/final.scaffolds.fa')"
   ]
  },
  {
   "cell_type": "code",
   "execution_count": 33,
   "metadata": {
    "ExecuteTime": {
     "end_time": "2018-03-12T16:03:14.303741Z",
     "start_time": "2018-03-12T16:03:12.631681Z"
    }
   },
   "outputs": [
    {
     "name": "stdout",
     "output_type": "stream",
     "text": [
      "max_scaffold 328854\n",
      "min_scaffold 1000\n",
      "mean_scaffold 21952.107454\n",
      "median_scaffold 13481\n",
      "N50 39894\n",
      "N90 11046\n",
      "scaffolds_greater_than_10kb 84847\n",
      "scaffolds_greater_than_100kb 2704\n",
      "scaffolds_greater_than_1Mb 0\n",
      "scaffolds_greater_than_10Mb 0\n",
      "scaffolds_greater_than_100Mb 0\n",
      "perc_genome_covered_by_scaffolds_greater_than_10kb 91.41494090076353\n",
      "perc_genome_covered_by_scaffolds_greater_than_100kb 11.176462006110688\n",
      "perc_genome_covered_by_scaffolds_greater_than_1mb 0.0\n",
      "number of scaffolds 143587\n",
      "total bases 3152037253\n"
     ]
    }
   ],
   "source": [
    "refined2RunFa.get_stats()"
   ]
  },
  {
   "cell_type": "code",
   "execution_count": 34,
   "metadata": {
    "ExecuteTime": {
     "end_time": "2018-03-12T16:03:54.311130Z",
     "start_time": "2018-03-12T16:03:14.305719Z"
    },
    "collapsed": true
   },
   "outputs": [],
   "source": [
    "refinedContigs2RunFa = fa.Fasta_file('../data/run_2018-03-05_10h57m25s/meraculous_contigs/UUtigs.fa')"
   ]
  },
  {
   "cell_type": "code",
   "execution_count": 35,
   "metadata": {
    "ExecuteTime": {
     "end_time": "2018-03-12T16:04:04.073321Z",
     "start_time": "2018-03-12T16:03:54.313720Z"
    }
   },
   "outputs": [
    {
     "name": "stdout",
     "output_type": "stream",
     "text": [
      "max_scaffold 39885\n",
      "min_scaffold 250\n",
      "mean_scaffold 1572.10386553\n",
      "median_scaffold 1018\n",
      "N50 2610\n",
      "N90 700\n",
      "scaffolds_greater_than_10kb 5155\n",
      "scaffolds_greater_than_100kb 0\n",
      "scaffolds_greater_than_1Mb 0\n",
      "scaffolds_greater_than_10Mb 0\n",
      "scaffolds_greater_than_100Mb 0\n",
      "perc_genome_covered_by_scaffolds_greater_than_10kb 1.8777961492631021\n",
      "perc_genome_covered_by_scaffolds_greater_than_100kb 0.0\n",
      "perc_genome_covered_by_scaffolds_greater_than_1mb 0.0\n",
      "number of scaffolds 2093505\n",
      "total bases 3291207303\n"
     ]
    }
   ],
   "source": [
    "refinedContigs2RunFa.get_stats()"
   ]
  },
  {
   "cell_type": "markdown",
   "metadata": {},
   "source": [
    "## Blast Analysis"
   ]
  },
  {
   "cell_type": "code",
   "execution_count": 37,
   "metadata": {
    "ExecuteTime": {
     "end_time": "2018-03-12T18:05:14.873161Z",
     "start_time": "2018-03-12T18:04:55.328020Z"
    },
    "collapsed": true
   },
   "outputs": [],
   "source": [
    "%%bash\n",
    "cd ../data\n",
    "#mkdir ino_marm_db\n",
    "cd ino_marm_db\n",
    "#cat ../../../../a_marmorata/dovetail_hic_genome_delivery/data/marmChromosomes.fasta ../../../../a_inornata/dovetail_genome_delivery/data/fastas/AspIno_1.0.fasta > ino_marm.fasta\n",
    "#makeblastdb -in ino_marm.fasta -dbtype nucl\n",
    "#nohup blastn -db ino_marm.fasta -query ../run_2018-03-05_10h57m25s/meraculous_final_results/final.scaffolds.fa -outfmt 8 -max_target_seqs 1 -max_hsps 1 -num_threads 30 -out neo2ino_marm.tsv &> neo2ino_marm.out &"
   ]
  },
  {
   "cell_type": "code",
   "execution_count": 38,
   "metadata": {
    "ExecuteTime": {
     "end_time": "2018-03-19T16:35:03.905282Z",
     "start_time": "2018-03-19T16:34:49.431342Z"
    },
    "collapsed": true
   },
   "outputs": [],
   "source": [
    "blastResults = pd.read_csv('../data/ino_marm_db/neo2ino_marm.tsv',sep='\\t')"
   ]
  },
  {
   "cell_type": "code",
   "execution_count": 39,
   "metadata": {
    "ExecuteTime": {
     "end_time": "2018-03-19T17:49:57.150411Z",
     "start_time": "2018-03-19T17:49:56.630341Z"
    }
   },
   "outputs": [
    {
     "data": {
      "text/html": [
       "<div>\n",
       "<style scoped>\n",
       "    .dataframe tbody tr th:only-of-type {\n",
       "        vertical-align: middle;\n",
       "    }\n",
       "\n",
       "    .dataframe tbody tr th {\n",
       "        vertical-align: top;\n",
       "    }\n",
       "\n",
       "    .dataframe thead th {\n",
       "        text-align: right;\n",
       "    }\n",
       "</style>\n",
       "<table border=\"1\" class=\"dataframe\">\n",
       "  <thead>\n",
       "    <tr style=\"text-align: right;\">\n",
       "      <th></th>\n",
       "      <th>Seq-annot ::= {</th>\n",
       "    </tr>\n",
       "  </thead>\n",
       "  <tbody>\n",
       "    <tr>\n",
       "      <th>0</th>\n",
       "      <td>desc {</td>\n",
       "    </tr>\n",
       "    <tr>\n",
       "      <th>1</th>\n",
       "      <td>user {</td>\n",
       "    </tr>\n",
       "    <tr>\n",
       "      <th>2</th>\n",
       "      <td>type str \"Hist Seqalign\",</td>\n",
       "    </tr>\n",
       "    <tr>\n",
       "      <th>3</th>\n",
       "      <td>data {</td>\n",
       "    </tr>\n",
       "    <tr>\n",
       "      <th>4</th>\n",
       "      <td>{</td>\n",
       "    </tr>\n",
       "    <tr>\n",
       "      <th>5</th>\n",
       "      <td>label str \"Hist Seqalign\",</td>\n",
       "    </tr>\n",
       "    <tr>\n",
       "      <th>6</th>\n",
       "      <td>data bool TRUE</td>\n",
       "    </tr>\n",
       "    <tr>\n",
       "      <th>7</th>\n",
       "      <td>}</td>\n",
       "    </tr>\n",
       "    <tr>\n",
       "      <th>8</th>\n",
       "      <td>}</td>\n",
       "    </tr>\n",
       "    <tr>\n",
       "      <th>9</th>\n",
       "      <td>},</td>\n",
       "    </tr>\n",
       "    <tr>\n",
       "      <th>10</th>\n",
       "      <td>user {</td>\n",
       "    </tr>\n",
       "    <tr>\n",
       "      <th>11</th>\n",
       "      <td>type str \"Blast Type\",</td>\n",
       "    </tr>\n",
       "    <tr>\n",
       "      <th>12</th>\n",
       "      <td>data {</td>\n",
       "    </tr>\n",
       "    <tr>\n",
       "      <th>13</th>\n",
       "      <td>{</td>\n",
       "    </tr>\n",
       "    <tr>\n",
       "      <th>14</th>\n",
       "      <td>label str \"blastn\",</td>\n",
       "    </tr>\n",
       "    <tr>\n",
       "      <th>15</th>\n",
       "      <td>data int 1</td>\n",
       "    </tr>\n",
       "    <tr>\n",
       "      <th>16</th>\n",
       "      <td>}</td>\n",
       "    </tr>\n",
       "    <tr>\n",
       "      <th>17</th>\n",
       "      <td>}</td>\n",
       "    </tr>\n",
       "    <tr>\n",
       "      <th>18</th>\n",
       "      <td>},</td>\n",
       "    </tr>\n",
       "    <tr>\n",
       "      <th>19</th>\n",
       "      <td>user {</td>\n",
       "    </tr>\n",
       "    <tr>\n",
       "      <th>20</th>\n",
       "      <td>type str \"Blast Database Title\",</td>\n",
       "    </tr>\n",
       "    <tr>\n",
       "      <th>21</th>\n",
       "      <td>data {</td>\n",
       "    </tr>\n",
       "    <tr>\n",
       "      <th>22</th>\n",
       "      <td>{</td>\n",
       "    </tr>\n",
       "    <tr>\n",
       "      <th>23</th>\n",
       "      <td>label str \"ino_marm.fasta\",</td>\n",
       "    </tr>\n",
       "    <tr>\n",
       "      <th>24</th>\n",
       "      <td>data bool TRUE</td>\n",
       "    </tr>\n",
       "    <tr>\n",
       "      <th>25</th>\n",
       "      <td>}</td>\n",
       "    </tr>\n",
       "    <tr>\n",
       "      <th>26</th>\n",
       "      <td>}</td>\n",
       "    </tr>\n",
       "    <tr>\n",
       "      <th>27</th>\n",
       "      <td>}</td>\n",
       "    </tr>\n",
       "    <tr>\n",
       "      <th>28</th>\n",
       "      <td>},</td>\n",
       "    </tr>\n",
       "    <tr>\n",
       "      <th>29</th>\n",
       "      <td>data align {</td>\n",
       "    </tr>\n",
       "    <tr>\n",
       "      <th>...</th>\n",
       "      <td>...</td>\n",
       "    </tr>\n",
       "    <tr>\n",
       "      <th>23638014</th>\n",
       "      <td>{</td>\n",
       "    </tr>\n",
       "    <tr>\n",
       "      <th>23638015</th>\n",
       "      <td>id str \"hsp_percent_coverage\",</td>\n",
       "    </tr>\n",
       "    <tr>\n",
       "      <th>23638016</th>\n",
       "      <td>value real { 876987951807229, 10, -13 }</td>\n",
       "    </tr>\n",
       "    <tr>\n",
       "      <th>23638017</th>\n",
       "      <td>}</td>\n",
       "    </tr>\n",
       "    <tr>\n",
       "      <th>23638018</th>\n",
       "      <td>},</td>\n",
       "    </tr>\n",
       "    <tr>\n",
       "      <th>23638019</th>\n",
       "      <td>segs denseg {</td>\n",
       "    </tr>\n",
       "    <tr>\n",
       "      <th>23638020</th>\n",
       "      <td>dim 2,</td>\n",
       "    </tr>\n",
       "    <tr>\n",
       "      <th>23638021</th>\n",
       "      <td>numseg 1,</td>\n",
       "    </tr>\n",
       "    <tr>\n",
       "      <th>23638022</th>\n",
       "      <td>ids {</td>\n",
       "    </tr>\n",
       "    <tr>\n",
       "      <th>23638023</th>\n",
       "      <td>local str \"Query_143587\",</td>\n",
       "    </tr>\n",
       "    <tr>\n",
       "      <th>23638024</th>\n",
       "      <td>general {</td>\n",
       "    </tr>\n",
       "    <tr>\n",
       "      <th>23638025</th>\n",
       "      <td>db \"BL_ORD_ID\",</td>\n",
       "    </tr>\n",
       "    <tr>\n",
       "      <th>23638026</th>\n",
       "      <td>tag id 1247</td>\n",
       "    </tr>\n",
       "    <tr>\n",
       "      <th>23638027</th>\n",
       "      <td>}</td>\n",
       "    </tr>\n",
       "    <tr>\n",
       "      <th>23638028</th>\n",
       "      <td>},</td>\n",
       "    </tr>\n",
       "    <tr>\n",
       "      <th>23638029</th>\n",
       "      <td>starts {</td>\n",
       "    </tr>\n",
       "    <tr>\n",
       "      <th>23638030</th>\n",
       "      <td>132,</td>\n",
       "    </tr>\n",
       "    <tr>\n",
       "      <th>23638031</th>\n",
       "      <td>0</td>\n",
       "    </tr>\n",
       "    <tr>\n",
       "      <th>23638032</th>\n",
       "      <td>},</td>\n",
       "    </tr>\n",
       "    <tr>\n",
       "      <th>23638033</th>\n",
       "      <td>lens {</td>\n",
       "    </tr>\n",
       "    <tr>\n",
       "      <th>23638034</th>\n",
       "      <td>1158</td>\n",
       "    </tr>\n",
       "    <tr>\n",
       "      <th>23638035</th>\n",
       "      <td>},</td>\n",
       "    </tr>\n",
       "    <tr>\n",
       "      <th>23638036</th>\n",
       "      <td>strands {</td>\n",
       "    </tr>\n",
       "    <tr>\n",
       "      <th>23638037</th>\n",
       "      <td>plus,</td>\n",
       "    </tr>\n",
       "    <tr>\n",
       "      <th>23638038</th>\n",
       "      <td>plus</td>\n",
       "    </tr>\n",
       "    <tr>\n",
       "      <th>23638039</th>\n",
       "      <td>}</td>\n",
       "    </tr>\n",
       "    <tr>\n",
       "      <th>23638040</th>\n",
       "      <td>}</td>\n",
       "    </tr>\n",
       "    <tr>\n",
       "      <th>23638041</th>\n",
       "      <td>}</td>\n",
       "    </tr>\n",
       "    <tr>\n",
       "      <th>23638042</th>\n",
       "      <td>}</td>\n",
       "    </tr>\n",
       "    <tr>\n",
       "      <th>23638043</th>\n",
       "      <td>}</td>\n",
       "    </tr>\n",
       "  </tbody>\n",
       "</table>\n",
       "<p>23638044 rows × 1 columns</p>\n",
       "</div>"
      ],
      "text/plain": [
       "                                            Seq-annot ::= {\n",
       "0           desc {                                         \n",
       "1             user {                                       \n",
       "2               type str \"Hist Seqalign\",                  \n",
       "3               data {                                     \n",
       "4                 {                                        \n",
       "5                   label str \"Hist Seqalign\",             \n",
       "6                   data bool TRUE                         \n",
       "7                 }                                        \n",
       "8               }                                          \n",
       "9             },                                           \n",
       "10            user {                                       \n",
       "11              type str \"Blast Type\",                     \n",
       "12              data {                                     \n",
       "13                {                                        \n",
       "14                  label str \"blastn\",                    \n",
       "15                  data int 1                             \n",
       "16                }                                        \n",
       "17              }                                          \n",
       "18            },                                           \n",
       "19            user {                                       \n",
       "20              type str \"Blast Database Title\",           \n",
       "21              data {                                     \n",
       "22                {                                        \n",
       "23                  label str \"ino_marm.fasta\",            \n",
       "24                  data bool TRUE                         \n",
       "25                }                                        \n",
       "26              }                                          \n",
       "27            }                                            \n",
       "28          },                                             \n",
       "29          data align {                                   \n",
       "...                  ...                                   \n",
       "23638014          {                                        \n",
       "23638015            id str \"hsp_percent_coverage\",         \n",
       "23638016            value real { 876987951807229, 10, -13 }\n",
       "23638017          }                                        \n",
       "23638018        },                                         \n",
       "23638019        segs denseg {                              \n",
       "23638020          dim 2,                                   \n",
       "23638021          numseg 1,                                \n",
       "23638022          ids {                                    \n",
       "23638023            local str \"Query_143587\",              \n",
       "23638024            general {                              \n",
       "23638025              db \"BL_ORD_ID\",                      \n",
       "23638026              tag id 1247                          \n",
       "23638027            }                                      \n",
       "23638028          },                                       \n",
       "23638029          starts {                                 \n",
       "23638030            132,                                   \n",
       "23638031            0                                      \n",
       "23638032          },                                       \n",
       "23638033          lens {                                   \n",
       "23638034            1158                                   \n",
       "23638035          },                                       \n",
       "23638036          strands {                                \n",
       "23638037            plus,                                  \n",
       "23638038            plus                                   \n",
       "23638039          }                                        \n",
       "23638040        }                                          \n",
       "23638041      }                                            \n",
       "23638042    }                                              \n",
       "23638043  }                                                \n",
       "\n",
       "[23638044 rows x 1 columns]"
      ]
     },
     "execution_count": 39,
     "metadata": {},
     "output_type": "execute_result"
    }
   ],
   "source": [
    "blastResults"
   ]
  }
 ],
 "metadata": {
  "kernelspec": {
   "display_name": "Python [conda env:anaconda3]",
   "language": "python",
   "name": "conda-env-anaconda3-py"
  },
  "language_info": {
   "codemirror_mode": {
    "name": "ipython",
    "version": 3
   },
   "file_extension": ".py",
   "mimetype": "text/x-python",
   "name": "python",
   "nbconvert_exporter": "python",
   "pygments_lexer": "ipython3",
   "version": "3.6.1"
  },
  "toc": {
   "nav_menu": {},
   "number_sections": true,
   "sideBar": true,
   "skip_h1_title": false,
   "toc_cell": false,
   "toc_position": {},
   "toc_section_display": "block",
   "toc_window_display": true
  }
 },
 "nbformat": 4,
 "nbformat_minor": 2
}
